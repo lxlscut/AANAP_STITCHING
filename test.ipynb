{
 "cells": [
  {
   "cell_type": "code",
   "execution_count": 39,
   "metadata": {
    "collapsed": true,
    "pycharm": {
     "is_executing": false
    }
   },
   "outputs": [
    {
     "name": "stdout",
     "text": [
      "<class 'numpy.ndarray'>\nprocessing_matrix time: 0.008005142211914062 Seconds\n"
     ],
     "output_type": "stream"
    }
   ],
   "source": [
    "import numpy as np\n",
    "import time\n",
    "import cupy as cp\n",
    "a = np.random.randint(0,100,[1322,9])\n",
    "b = np.random.randint(0,100,[1322,9])\n",
    "start = time.time()\n",
    "a = cp.array(a)\n",
    "b = cp.array(b)\n",
    "[u, s, v] = cp.linalg.svd(a)\n",
    "[u, s, v] = cp.linalg.svd(b)\n",
    "v = cp.asnumpy(v)\n",
    "print(type(v))\n",
    "end = time.time()\n",
    "print('processing_matrix time: {} Seconds'.format(end - start))\n",
    "\n"
   ]
  },
  {
   "cell_type": "code",
   "execution_count": 26,
   "outputs": [],
   "source": [
    "import numpy as np\n",
    "\n",
    "a = np.array([[[1,2,3],[4,5,6],[7,8,9]],[[1,2,3],[4,5,6],[7,8,9]],[[1,2,3],[4,5,6],[7,8,9]]])\n"
   ],
   "metadata": {
    "collapsed": false,
    "pycharm": {
     "name": "#%%\n",
     "is_executing": false
    }
   }
  },
  {
   "cell_type": "code",
   "execution_count": 27,
   "outputs": [
    {
     "data": {
      "text/plain": "array([[[1, 2, 3],\n        [4, 5, 6],\n        [7, 8, 9]],\n\n       [[1, 2, 3],\n        [4, 5, 6],\n        [7, 8, 9]],\n\n       [[1, 2, 3],\n        [4, 5, 6],\n        [7, 8, 9]]])"
     },
     "metadata": {},
     "output_type": "execute_result",
     "execution_count": 27
    }
   ],
   "source": [],
   "metadata": {
    "collapsed": false,
    "pycharm": {
     "name": "#%%\n",
     "is_executing": false
    }
   }
  },
  {
   "cell_type": "code",
   "execution_count": 30,
   "outputs": [],
   "source": [
    "b = np.sum"
   ],
   "metadata": {
    "collapsed": false,
    "pycharm": {
     "name": "#%%\n",
     "is_executing": false
    }
   }
  },
  {
   "cell_type": "code",
   "execution_count": 31,
   "outputs": [
    {
     "data": {
      "text/plain": "<function numpy.sum(a, axis=None, dtype=None, out=None, keepdims=<no value>, initial=<no value>, where=<no value>)>"
     },
     "metadata": {},
     "output_type": "execute_result",
     "execution_count": 31
    }
   ],
   "source": [
    "b"
   ],
   "metadata": {
    "collapsed": false,
    "pycharm": {
     "name": "#%%\n",
     "is_executing": false
    }
   }
  },
  {
   "cell_type": "code",
   "execution_count": 32,
   "outputs": [
    {
     "name": "stdout",
     "text": [
      "Help on function sum in module numpy:\n\nsum(a, axis=None, dtype=None, out=None, keepdims=<no value>, initial=<no value>, where=<no value>)\n    Sum of array elements over a given axis.\n    \n    Parameters\n    ----------\n    a : array_like\n        Elements to sum.\n    axis : None or int or tuple of ints, optional\n        Axis or axes along which a sum is performed.  The default,\n        axis=None, will sum all of the elements of the input array.  If\n        axis is negative it counts from the last to the first axis.\n    \n        .. versionadded:: 1.7.0\n    \n        If axis is a tuple of ints, a sum is performed on all of the axes\n        specified in the tuple instead of a single axis or all the axes as\n        before.\n    dtype : dtype, optional\n        The type of the returned array and of the accumulator in which the\n        elements are summed.  The dtype of `a` is used by default unless `a`\n        has an integer dtype of less precision than the default platform\n        integer.  In that case, if `a` is signed then the platform integer\n        is used while if `a` is unsigned then an unsigned integer of the\n        same precision as the platform integer is used.\n    out : ndarray, optional\n        Alternative output array in which to place the result. It must have\n        the same shape as the expected output, but the type of the output\n        values will be cast if necessary.\n    keepdims : bool, optional\n        If this is set to True, the axes which are reduced are left\n        in the result as dimensions with size one. With this option,\n        the result will broadcast correctly against the input array.\n    \n        If the default value is passed, then `keepdims` will not be\n        passed through to the `sum` method of sub-classes of\n        `ndarray`, however any non-default value will be.  If the\n        sub-class' method does not implement `keepdims` any\n        exceptions will be raised.\n    initial : scalar, optional\n        Starting value for the sum. See `~numpy.ufunc.reduce` for details.\n    \n        .. versionadded:: 1.15.0\n    \n    where : array_like of bool, optional\n        Elements to include in the sum. See `~numpy.ufunc.reduce` for details.\n    \n        .. versionadded:: 1.17.0\n    \n    Returns\n    -------\n    sum_along_axis : ndarray\n        An array with the same shape as `a`, with the specified\n        axis removed.   If `a` is a 0-d array, or if `axis` is None, a scalar\n        is returned.  If an output array is specified, a reference to\n        `out` is returned.\n    \n    See Also\n    --------\n    ndarray.sum : Equivalent method.\n    \n    add.reduce : Equivalent functionality of `add`.\n    \n    cumsum : Cumulative sum of array elements.\n    \n    trapz : Integration of array values using the composite trapezoidal rule.\n    \n    mean, average\n    \n    Notes\n    -----\n    Arithmetic is modular when using integer types, and no error is\n    raised on overflow.\n    \n    The sum of an empty array is the neutral element 0:\n    \n    >>> np.sum([])\n    0.0\n    \n    For floating point numbers the numerical precision of sum (and\n    ``np.add.reduce``) is in general limited by directly adding each number\n    individually to the result causing rounding errors in every step.\n    However, often numpy will use a  numerically better approach (partial\n    pairwise summation) leading to improved precision in many use-cases.\n    This improved precision is always provided when no ``axis`` is given.\n    When ``axis`` is given, it will depend on which axis is summed.\n    Technically, to provide the best speed possible, the improved precision\n    is only used when the summation is along the fast axis in memory.\n    Note that the exact precision may vary depending on other parameters.\n    In contrast to NumPy, Python's ``math.fsum`` function uses a slower but\n    more precise approach to summation.\n    Especially when summing a large number of lower precision floating point\n    numbers, such as ``float32``, numerical errors can become significant.\n    In such cases it can be advisable to use `dtype=\"float64\"` to use a higher\n    precision for the output.\n    \n    Examples\n    --------\n    >>> np.sum([0.5, 1.5])\n    2.0\n    >>> np.sum([0.5, 0.7, 0.2, 1.5], dtype=np.int32)\n    1\n    >>> np.sum([[0, 1], [0, 5]])\n    6\n    >>> np.sum([[0, 1], [0, 5]], axis=0)\n    array([0, 6])\n    >>> np.sum([[0, 1], [0, 5]], axis=1)\n    array([1, 5])\n    >>> np.sum([[0, 1], [np.nan, 5]], where=[False, True], axis=1)\n    array([1., 5.])\n    \n    If the accumulator is too small, overflow occurs:\n    \n    >>> np.ones(128, dtype=np.int8).sum(dtype=np.int8)\n    -128\n    \n    You can also start the sum with a value other than zero:\n    \n    >>> np.sum([10], initial=5)\n    15\n\n"
     ],
     "output_type": "stream"
    }
   ],
   "source": [
    "help(np.sum)"
   ],
   "metadata": {
    "collapsed": false,
    "pycharm": {
     "name": "#%%\n",
     "is_executing": false
    }
   }
  },
  {
   "cell_type": "code",
   "execution_count": 33,
   "outputs": [
    {
     "data": {
      "text/plain": "array([[[ 1.,  1.],\n        [ 2.,  1.],\n        [ 3.,  1.],\n        [ 4.,  1.],\n        [ 5.,  1.],\n        [ 6.,  1.],\n        [ 7.,  1.],\n        [ 8.,  1.],\n        [ 9.,  1.],\n        [10.,  1.]],\n\n       [[ 1.,  2.],\n        [ 2.,  2.],\n        [ 3.,  2.],\n        [ 4.,  2.],\n        [ 5.,  2.],\n        [ 6.,  2.],\n        [ 7.,  2.],\n        [ 8.,  2.],\n        [ 9.,  2.],\n        [10.,  2.]],\n\n       [[ 1.,  3.],\n        [ 2.,  3.],\n        [ 3.,  3.],\n        [ 4.,  3.],\n        [ 5.,  3.],\n        [ 6.,  3.],\n        [ 7.,  3.],\n        [ 8.,  3.],\n        [ 9.,  3.],\n        [10.,  3.]],\n\n       [[ 1.,  4.],\n        [ 2.,  4.],\n        [ 3.,  4.],\n        [ 4.,  4.],\n        [ 5.,  4.],\n        [ 6.,  4.],\n        [ 7.,  4.],\n        [ 8.,  4.],\n        [ 9.,  4.],\n        [10.,  4.]],\n\n       [[ 1.,  5.],\n        [ 2.,  5.],\n        [ 3.,  5.],\n        [ 4.,  5.],\n        [ 5.,  5.],\n        [ 6.,  5.],\n        [ 7.,  5.],\n        [ 8.,  5.],\n        [ 9.,  5.],\n        [10.,  5.]],\n\n       [[ 1.,  6.],\n        [ 2.,  6.],\n        [ 3.,  6.],\n        [ 4.,  6.],\n        [ 5.,  6.],\n        [ 6.,  6.],\n        [ 7.,  6.],\n        [ 8.,  6.],\n        [ 9.,  6.],\n        [10.,  6.]],\n\n       [[ 1.,  7.],\n        [ 2.,  7.],\n        [ 3.,  7.],\n        [ 4.,  7.],\n        [ 5.,  7.],\n        [ 6.,  7.],\n        [ 7.,  7.],\n        [ 8.,  7.],\n        [ 9.,  7.],\n        [10.,  7.]],\n\n       [[ 1.,  8.],\n        [ 2.,  8.],\n        [ 3.,  8.],\n        [ 4.,  8.],\n        [ 5.,  8.],\n        [ 6.,  8.],\n        [ 7.,  8.],\n        [ 8.,  8.],\n        [ 9.,  8.],\n        [10.,  8.]],\n\n       [[ 1.,  9.],\n        [ 2.,  9.],\n        [ 3.,  9.],\n        [ 4.,  9.],\n        [ 5.,  9.],\n        [ 6.,  9.],\n        [ 7.,  9.],\n        [ 8.,  9.],\n        [ 9.,  9.],\n        [10.,  9.]],\n\n       [[ 1., 10.],\n        [ 2., 10.],\n        [ 3., 10.],\n        [ 4., 10.],\n        [ 5., 10.],\n        [ 6., 10.],\n        [ 7., 10.],\n        [ 8., 10.],\n        [ 9., 10.],\n        [10., 10.]]])"
     },
     "metadata": {},
     "output_type": "execute_result",
     "execution_count": 33
    }
   ],
   "source": [
    "grid_center_point = np.meshgrid(np.linspace(1, 10, 10),\n",
    "                                np.linspace(1, 10, 10))\n",
    "grid_center_point = np.stack([grid_center_point[0], grid_center_point[1]], axis=-1)\n",
    "grid_center_point"
   ],
   "metadata": {
    "collapsed": false,
    "pycharm": {
     "name": "#%%\n",
     "is_executing": false
    }
   }
  },
  {
   "cell_type": "code",
   "execution_count": 34,
   "outputs": [],
   "source": [
    "a = np.array([1,2])"
   ],
   "metadata": {
    "collapsed": false,
    "pycharm": {
     "name": "#%%\n",
     "is_executing": false
    }
   }
  },
  {
   "cell_type": "code",
   "execution_count": 4,
   "outputs": [],
   "source": [
    "import numpy as np\n",
    "a = np.linspace(0,10,10)\n",
    "b = np.linspace(0,10,10)\n",
    "mesh = np.meshgrid(a,b)"
   ],
   "metadata": {
    "collapsed": false,
    "pycharm": {
     "name": "#%%\n",
     "is_executing": false
    }
   }
  },
  {
   "cell_type": "code",
   "execution_count": 5,
   "outputs": [
    {
     "data": {
      "text/plain": "[array([[ 0.        ,  1.11111111,  2.22222222,  3.33333333,  4.44444444,\n          5.55555556,  6.66666667,  7.77777778,  8.88888889, 10.        ],\n        [ 0.        ,  1.11111111,  2.22222222,  3.33333333,  4.44444444,\n          5.55555556,  6.66666667,  7.77777778,  8.88888889, 10.        ],\n        [ 0.        ,  1.11111111,  2.22222222,  3.33333333,  4.44444444,\n          5.55555556,  6.66666667,  7.77777778,  8.88888889, 10.        ],\n        [ 0.        ,  1.11111111,  2.22222222,  3.33333333,  4.44444444,\n          5.55555556,  6.66666667,  7.77777778,  8.88888889, 10.        ],\n        [ 0.        ,  1.11111111,  2.22222222,  3.33333333,  4.44444444,\n          5.55555556,  6.66666667,  7.77777778,  8.88888889, 10.        ],\n        [ 0.        ,  1.11111111,  2.22222222,  3.33333333,  4.44444444,\n          5.55555556,  6.66666667,  7.77777778,  8.88888889, 10.        ],\n        [ 0.        ,  1.11111111,  2.22222222,  3.33333333,  4.44444444,\n          5.55555556,  6.66666667,  7.77777778,  8.88888889, 10.        ],\n        [ 0.        ,  1.11111111,  2.22222222,  3.33333333,  4.44444444,\n          5.55555556,  6.66666667,  7.77777778,  8.88888889, 10.        ],\n        [ 0.        ,  1.11111111,  2.22222222,  3.33333333,  4.44444444,\n          5.55555556,  6.66666667,  7.77777778,  8.88888889, 10.        ],\n        [ 0.        ,  1.11111111,  2.22222222,  3.33333333,  4.44444444,\n          5.55555556,  6.66666667,  7.77777778,  8.88888889, 10.        ]]),\n array([[ 0.        ,  0.        ,  0.        ,  0.        ,  0.        ,\n          0.        ,  0.        ,  0.        ,  0.        ,  0.        ],\n        [ 1.11111111,  1.11111111,  1.11111111,  1.11111111,  1.11111111,\n          1.11111111,  1.11111111,  1.11111111,  1.11111111,  1.11111111],\n        [ 2.22222222,  2.22222222,  2.22222222,  2.22222222,  2.22222222,\n          2.22222222,  2.22222222,  2.22222222,  2.22222222,  2.22222222],\n        [ 3.33333333,  3.33333333,  3.33333333,  3.33333333,  3.33333333,\n          3.33333333,  3.33333333,  3.33333333,  3.33333333,  3.33333333],\n        [ 4.44444444,  4.44444444,  4.44444444,  4.44444444,  4.44444444,\n          4.44444444,  4.44444444,  4.44444444,  4.44444444,  4.44444444],\n        [ 5.55555556,  5.55555556,  5.55555556,  5.55555556,  5.55555556,\n          5.55555556,  5.55555556,  5.55555556,  5.55555556,  5.55555556],\n        [ 6.66666667,  6.66666667,  6.66666667,  6.66666667,  6.66666667,\n          6.66666667,  6.66666667,  6.66666667,  6.66666667,  6.66666667],\n        [ 7.77777778,  7.77777778,  7.77777778,  7.77777778,  7.77777778,\n          7.77777778,  7.77777778,  7.77777778,  7.77777778,  7.77777778],\n        [ 8.88888889,  8.88888889,  8.88888889,  8.88888889,  8.88888889,\n          8.88888889,  8.88888889,  8.88888889,  8.88888889,  8.88888889],\n        [10.        , 10.        , 10.        , 10.        , 10.        ,\n         10.        , 10.        , 10.        , 10.        , 10.        ]])]"
     },
     "metadata": {},
     "output_type": "execute_result",
     "execution_count": 5
    }
   ],
   "source": [
    "mesh"
   ],
   "metadata": {
    "collapsed": false,
    "pycharm": {
     "name": "#%%\n",
     "is_executing": false
    }
   }
  },
  {
   "cell_type": "code",
   "execution_count": null,
   "outputs": [],
   "source": [
    "\n"
   ],
   "metadata": {
    "collapsed": false,
    "pycharm": {
     "name": "#%%\n"
    }
   }
  }
 ],
 "metadata": {
  "kernelspec": {
   "display_name": "Python 3",
   "language": "python",
   "name": "python3"
  },
  "language_info": {
   "codemirror_mode": {
    "name": "ipython",
    "version": 2
   },
   "file_extension": ".py",
   "mimetype": "text/x-python",
   "name": "python",
   "nbconvert_exporter": "python",
   "pygments_lexer": "ipython2",
   "version": "2.7.6"
  },
  "pycharm": {
   "stem_cell": {
    "cell_type": "raw",
    "source": [],
    "metadata": {
     "collapsed": false
    }
   }
  }
 },
 "nbformat": 4,
 "nbformat_minor": 0
}